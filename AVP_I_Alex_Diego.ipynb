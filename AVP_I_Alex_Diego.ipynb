{
  "nbformat": 4,
  "nbformat_minor": 0,
  "metadata": {
    "colab": {
      "provenance": [],
      "authorship_tag": "ABX9TyMijSQlOiKU6BCf60EB7axb",
      "include_colab_link": true
    },
    "kernelspec": {
      "name": "python3",
      "display_name": "Python 3"
    },
    "language_info": {
      "name": "python"
    }
  },
  "cells": [
    {
      "cell_type": "markdown",
      "metadata": {
        "id": "view-in-github",
        "colab_type": "text"
      },
      "source": [
        "<a href=\"https://colab.research.google.com/github/alexdiegoo/avpi-machine-learning/blob/main/AVP_I_Alex_Diego.ipynb\" target=\"_parent\"><img src=\"https://colab.research.google.com/assets/colab-badge.svg\" alt=\"Open In Colab\"/></a>"
      ]
    },
    {
      "cell_type": "code",
      "execution_count": 3,
      "metadata": {
        "colab": {
          "base_uri": "https://localhost:8080/"
        },
        "id": "smBnQsbK_QXn",
        "outputId": "91d8d9ad-0220-4108-a058-5fca22c230b3"
      },
      "outputs": [
        {
          "output_type": "stream",
          "name": "stdout",
          "text": [
            "=====================================\n",
            " Algoritmo Multiarranque - Resultado \n",
            "=====================================\n",
            "Melhor rota encontrada: ['B', 'D', 'C', 'A']\n",
            "Distância total: 80 km\n",
            "=====================================\n"
          ]
        }
      ],
      "source": [
        "import random\n",
        "\n",
        "# --- Definição das distâncias entre as cidades ---\n",
        "dist = {\n",
        "    ('A', 'B'): 10, ('A', 'C'): 15, ('A', 'D'): 20,\n",
        "    ('B', 'C'): 35, ('B', 'D'): 25, ('C', 'D'): 30\n",
        "}\n",
        "\n",
        "# --- Função para calcular a distância total de uma rota ---\n",
        "def calc_dist(route):\n",
        "    total = 0\n",
        "    for i in range(len(route) - 1):\n",
        "        pair = tuple(sorted((route[i], route[i+1])))\n",
        "        total += dist[pair]\n",
        "    # Retorna para a cidade inicial\n",
        "    pair = tuple(sorted((route[-1], route[0])))\n",
        "    total += dist[pair]\n",
        "    return total\n",
        "\n",
        "# --- Função principal do algoritmo Multiarranque ---\n",
        "def multi_start(cities, iterations=100):\n",
        "    best_route, best_dist = None, float('inf')\n",
        "    for _ in range(iterations):\n",
        "        # Gera uma rota aleatória (uma permutação das cidades)\n",
        "        route = random.sample(cities, len(cities))\n",
        "        distance = calc_dist(route)\n",
        "\n",
        "        # Armazena se for a melhor rota até agora\n",
        "        if distance < best_dist:\n",
        "            best_route, best_dist = route, distance\n",
        "\n",
        "    return best_route, best_dist\n",
        "\n",
        "# --- Execução do algoritmo ---\n",
        "cities = ['A', 'B', 'C', 'D']\n",
        "best_route, best_distance = multi_start(cities, iterations=1000)\n",
        "\n",
        "# --- Exibe o resultado ---\n",
        "print(\"=====================================\")\n",
        "print(\" Algoritmo Multiarranque - Resultado \")\n",
        "print(\"=====================================\")\n",
        "print(f\"Melhor rota encontrada: {best_route}\")\n",
        "print(f\"Distância total: {best_distance} km\")\n",
        "print(\"=====================================\")\n"
      ]
    }
  ]
}