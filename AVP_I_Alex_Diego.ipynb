{
  "nbformat": 4,
  "nbformat_minor": 0,
  "metadata": {
    "colab": {
      "provenance": [],
      "authorship_tag": "ABX9TyPQq67FY6PJfV8MEphHXUCd",
      "include_colab_link": true
    },
    "kernelspec": {
      "name": "python3",
      "display_name": "Python 3"
    },
    "language_info": {
      "name": "python"
    }
  },
  "cells": [
    {
      "cell_type": "markdown",
      "metadata": {
        "id": "view-in-github",
        "colab_type": "text"
      },
      "source": [
        "<a href=\"https://colab.research.google.com/github/alexdiegoo/avpi-machine-learning/blob/main/AVP_I_Alex_Diego.ipynb\" target=\"_parent\"><img src=\"https://colab.research.google.com/assets/colab-badge.svg\" alt=\"Open In Colab\"/></a>"
      ]
    },
    {
      "cell_type": "code",
      "execution_count": 4,
      "metadata": {
        "colab": {
          "base_uri": "https://localhost:8080/"
        },
        "id": "smBnQsbK_QXn",
        "outputId": "fce8918f-43a4-4bef-f189-1d1c5061637d"
      },
      "outputs": [
        {
          "output_type": "stream",
          "name": "stdout",
          "text": [
            "Melhor rota: ['D', 'B', 'A', 'C']\n",
            "Distância total: 80\n"
          ]
        }
      ],
      "source": [
        "import random\n",
        "\n",
        "dist = {\n",
        "    ('A', 'B'): 10, ('A', 'C'): 15, ('A', 'D'): 20,\n",
        "    ('B', 'C'): 35, ('B', 'D'): 25, ('C', 'D'): 30\n",
        "}\n",
        "\n",
        "def calc_dist(route):\n",
        "    total = 0\n",
        "    for i in range(len(route)-1):\n",
        "        pair = tuple(sorted((route[i], route[i+1])))\n",
        "        total += dist[pair]\n",
        "    pair = tuple(sorted((route[-1], route[0])))\n",
        "    total += dist[pair]\n",
        "    return total\n",
        "\n",
        "def multi_start(cities, iterations=100):\n",
        "    best_route, best_dist = None, float('inf')\n",
        "    for _ in range(iterations):\n",
        "        route = random.sample(cities, len(cities))\n",
        "        distance = calc_dist(route)\n",
        "        if distance < best_dist:\n",
        "            best_route, best_dist = route, distance\n",
        "    return best_route, best_dist\n",
        "\n",
        "cities = ['A', 'B', 'C', 'D']\n",
        "melhor_rota, menor_dist = multi_start(cities)\n",
        "print('Melhor rota:', melhor_rota)\n",
        "print('Distância total:', menor_dist)"
      ]
    }
  ]
}